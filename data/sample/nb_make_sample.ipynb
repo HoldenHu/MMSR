{
 "cells": [
  {
   "cell_type": "code",
   "execution_count": 15,
   "metadata": {},
   "outputs": [],
   "source": [
    "import pickle\n",
    "max_node, max_image, max_text = 310, 310, 310\n",
    "train_k2 = pickle.load(open('/home/holdenhu/Projects/CASRec/data/sample/train_k2.txt','rb'))\n",
    "test_k2 = pickle.load(open('/home/holdenhu/Projects/CASRec/data/sample/test_k2.txt','rb'))"
   ]
  },
  {
   "cell_type": "code",
   "execution_count": 16,
   "metadata": {},
   "outputs": [],
   "source": [
    "image_col = []\n",
    "for s in train_k2[1]:\n",
    "    new_s = []\n",
    "    for bundle in s:\n",
    "        new_bundle = []\n",
    "        for i in bundle:\n",
    "            new_bundle.append(i+max_node)\n",
    "        new_s.append(new_bundle)\n",
    "    image_col.append(new_s)\n",
    "train_k2[1] = image_col\n",
    "\n",
    "text_col = []\n",
    "for s in train_k2[2]:\n",
    "    new_s = []\n",
    "    for bundle in s:\n",
    "        new_bundle = []\n",
    "        for i in bundle:\n",
    "            new_bundle.append(i+max_node+max_image)\n",
    "        new_s.append(new_bundle)\n",
    "    text_col.append(new_s)\n",
    "train_k2[2] = text_col"
   ]
  },
  {
   "cell_type": "code",
   "execution_count": 28,
   "metadata": {},
   "outputs": [],
   "source": [
    "pickle.dump(train_k2, open('./train_k2.txt', 'wb'))\n",
    "pickle.dump(test_k2, open('./test_k2.txt', 'wb'))"
   ]
  }
 ],
 "metadata": {
  "kernelspec": {
   "display_name": "recbole",
   "language": "python",
   "name": "python3"
  },
  "language_info": {
   "codemirror_mode": {
    "name": "ipython",
    "version": 3
   },
   "file_extension": ".py",
   "mimetype": "text/x-python",
   "name": "python",
   "nbconvert_exporter": "python",
   "pygments_lexer": "ipython3",
   "version": "3.9.7"
  },
  "orig_nbformat": 4,
  "vscode": {
   "interpreter": {
    "hash": "b86f3a1c461bf87e9457c32697f800e50c3f11546faa77218a60ce1650cf690e"
   }
  }
 },
 "nbformat": 4,
 "nbformat_minor": 2
}
